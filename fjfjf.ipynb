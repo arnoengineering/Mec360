{
 "cells": [
  {
   "cell_type": "code",
   "execution_count": 19,
   "outputs": [],
   "source": [
    "\n",
    "import sympy as sy\n",
    "import numpy as np\n",
    "import matplotlib.pyplot as plt\n",
    "from sympy.physics.vector import *\n",
    "N = ReferenceFrame('N')\n",
    "f_1 =[[],[], []]\n",
    "f_2 = [[],[], []]\n",
    "\n",
    "# todo add d axis\n",
    "t, r, a, l, rc, w, m, m2, mc, m3 = sy.symbols('t r a l rc w m m2 mc m3')\n",
    "\n",
    "phi = 120\n",
    "base_v = {mc:0,\n",
    "          m3:m,\n",
    "          m:3,\n",
    "          r:0.05,\n",
    "          l:0.2,\n",
    "          w:2000*np.pi/30,\n",
    "          a: 1/3}\n",
    "deg = (-phi, -90)\n",
    "\n",
    "axis_t = [[N.x, N.y],\n",
    "          [sy.cos(-phi)*N.x+sy.sin(-phi)*N.y, sy.cos(-phi)*N.y-sy.sin(-phi)*N.x],\n",
    "          [sy.cos(phi)*N.x+sy.sin(phi)*N.y, sy.cos(phi)*N.y-sy.sin(phi)*N.x]]\n",
    "r3 = a*l\n",
    "r4 = r-r3\n",
    "A = w**2 * (r *( m3 + m)-mc*rc)\n",
    "B = w**2 * (r3 /l*m3 + m)*r**2/l\n",
    "#C = (r4 /l*m3*r-mc*rc)*w**2\n",
    "C=0"
   ],
   "metadata": {
    "collapsed": false,
    "pycharm": {
     "name": "#%%\n"
    }
   }
  },
  {
   "cell_type": "code",
   "execution_count": 20,
   "outputs": [
    {
     "data": {
      "text/plain": "((13159.4725347858*cos(209.43951023932*t + 2.0943951023932) + 2193.2454224643*cos(418.879020478639*t + 4.18879020478639))*cos(120) + (13159.4725347858*cos(209.43951023932*t + 4.18879020478639) + 2193.2454224643*cos(418.879020478639*t + 8.37758040957278))*cos(120) - 13159.4725347858*sin(120)*sin(209.43951023932*t + 4.18879020478639) + 13159.4725347858*cos(209.43951023932*t) + 2193.2454224643*cos(418.879020478639*t))*N.x + (-(13159.4725347858*cos(209.43951023932*t + 2.0943951023932) + 2193.2454224643*cos(418.879020478639*t + 4.18879020478639))*sin(120) + (13159.4725347858*cos(209.43951023932*t + 4.18879020478639) + 2193.2454224643*cos(418.879020478639*t + 8.37758040957278))*sin(120) + 13159.4725347858*sin(209.43951023932*t + 4.18879020478639)*cos(120))*N.y",
      "text/latex": "$\\displaystyle (\\left(13159.4725347858 \\cos{\\left(209.43951023932 t + 2.0943951023932 \\right)} + 2193.2454224643 \\cos{\\left(418.879020478639 t + 4.18879020478639 \\right)}\\right) \\cos{\\left(120 \\right)} + \\left(13159.4725347858 \\cos{\\left(209.43951023932 t + 4.18879020478639 \\right)} + 2193.2454224643 \\cos{\\left(418.879020478639 t + 8.37758040957278 \\right)}\\right) \\cos{\\left(120 \\right)} - 13159.4725347858 \\sin{\\left(120 \\right)} \\sin{\\left(209.43951023932 t + 4.18879020478639 \\right)} + 13159.4725347858 \\cos{\\left(209.43951023932 t \\right)} + 2193.2454224643 \\cos{\\left(418.879020478639 t \\right)})\\mathbf{\\hat{n}_x} + (- \\left(13159.4725347858 \\cos{\\left(209.43951023932 t + 2.0943951023932 \\right)} + 2193.2454224643 \\cos{\\left(418.879020478639 t + 4.18879020478639 \\right)}\\right) \\sin{\\left(120 \\right)} + \\left(13159.4725347858 \\cos{\\left(209.43951023932 t + 4.18879020478639 \\right)} + 2193.2454224643 \\cos{\\left(418.879020478639 t + 8.37758040957278 \\right)}\\right) \\sin{\\left(120 \\right)} + 13159.4725347858 \\sin{\\left(209.43951023932 t + 4.18879020478639 \\right)} \\cos{\\left(120 \\right)})\\mathbf{\\hat{n}_y}$"
     },
     "execution_count": 20,
     "metadata": {},
     "output_type": "execute_result"
    }
   ],
   "source": [
    "for i in range(3):\n",
    "    th = t*w + np.deg2rad(120*i)\n",
    "    # if i==1:\n",
    "    #     a1 = A.subs(m,2*m)\n",
    "    #     b1 = B.subs(m,2*m)\n",
    "    # else:\n",
    "    a1=A\n",
    "    b1=B\n",
    "    f1 = a1*sy.cos(th)+b1*sy.cos(2*th)\n",
    "    f2 = a1 * sy.sin(th)\n",
    "    f_1[i].append(f1)\n",
    "    f_2[i].append(f2)\n",
    "\n",
    "    # print(f2)\n",
    "F1 = 0\n",
    "F2 = 0\n",
    "for i in range(3):\n",
    "    F1 += sum(f_1[i])*axis_t[i][0]\n",
    "    F2 = sum(f_2[i])*axis_t[i][1]\n",
    "\n",
    "\n",
    "# print(F2)\n",
    "for i,j in base_v.items():\n",
    "    F1 = F1.subs(i,j)\n",
    "    F2 = F2.subs(i,j)\n",
    "\n",
    "Fs = F1 + F2\n",
    "Fs"
   ],
   "metadata": {
    "collapsed": false,
    "pycharm": {
     "name": "#%%\n"
    }
   }
  },
  {
   "cell_type": "code",
   "execution_count": 23,
   "outputs": [
    {
     "name": "stdout",
     "output_type": "stream",
     "text": [
      "Matrix([[-10770.6658884013 - 9005.81857280082*sin(120) + 10770.6658884013*cos(120)], [8697.31416506017*sin(120) + 9005.81857280082*cos(120)], [0]])\n"
     ]
    },
    {
     "data": {
      "text/plain": "<Figure size 432x288 with 1 Axes>",
      "image/png": "[encoded data removed]"
     },
     "metadata": {
      "needs_background": "light"
     },
     "output_type": "display_data"
    }
   ],
   "source": [
    "F_s = Fs.to_matrix(N)\n",
    "f = sy.lambdify(t, F_s[0])\n",
    "f2 = sy.lambdify(t,  F_s[1])\n",
    "sp = np.linspace(0,2*np.pi/base_v[w], 250)\n",
    "F_sx = f(sp)\n",
    "F_sy = f2(sp)\n",
    "print(sy.sympify(F_s.subs(t,np.pi/6)))\n",
    "# fig, ax = plt.subplots(subplot_kw={'projection': 'polar'})\n",
    "plt.plot(np.rad2deg(sp*base_v[w]), F_sx)\n",
    "plt.plot(np.rad2deg(sp*base_v[w]), F_sy)\n",
    "plt.show()\n",
    "# print(F2)"
   ],
   "metadata": {
    "collapsed": false,
    "pycharm": {
     "name": "#%%\n"
    }
   }
  }
 ],
 "metadata": {
  "kernelspec": {
   "display_name": "Python 3",
   "language": "python",
   "name": "python3"
  },
  "language_info": {
   "codemirror_mode": {
    "name": "ipython",
    "version": 2
   },
   "file_extension": ".py",
   "mimetype": "text/x-python",
   "name": "python",
   "nbconvert_exporter": "python",
   "pygments_lexer": "ipython2",
   "version": "2.7.6"
  },
  "pycharm": {
   "stem_cell": {
    "cell_type": "raw",
    "source": [
     "\n"
    ],
    "metadata": {
     "collapsed": false
    }
   }
  }
 },
 "nbformat": 4,
 "nbformat_minor": 0
}